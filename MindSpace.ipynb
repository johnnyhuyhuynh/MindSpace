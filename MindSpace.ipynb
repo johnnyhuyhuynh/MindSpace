{
 "cells": [
  {
   "cell_type": "code",
   "execution_count": 14,
   "id": "65316041-cac3-4808-8965-24396c63df36",
   "metadata": {},
   "outputs": [],
   "source": [
    "import numpy as np\n",
    "import pandas as pd\n",
    "\n",
    "# Open the zip into the dataset folder if this does not work for you\n",
    "df = pd.read_csv('./dataset/Impact_of_Remote_Work_on_Mental_Health.csv')"
   ]
  },
  {
   "cell_type": "code",
   "execution_count": null,
   "id": "36da20aa",
   "metadata": {},
   "outputs": [],
   "source": []
  }
 ],
 "metadata": {
  "kernelspec": {
   "display_name": "IntroToMachineLearning",
   "language": "python",
   "name": "python3"
  },
  "language_info": {
   "codemirror_mode": {
    "name": "ipython",
    "version": 3
   },
   "file_extension": ".py",
   "mimetype": "text/x-python",
   "name": "python",
   "nbconvert_exporter": "python",
   "pygments_lexer": "ipython3",
   "version": "3.12.4"
  }
 },
 "nbformat": 4,
 "nbformat_minor": 5
}
